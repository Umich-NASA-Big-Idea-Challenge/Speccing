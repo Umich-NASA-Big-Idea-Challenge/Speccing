{
 "cells": [
  {
   "cell_type": "code",
   "execution_count": 10,
   "metadata": {
    "metadata": {}
   },
   "outputs": [],
   "source": [
    "import numpy as np\n",
    "import matplotlib.pyplot as plt\n",
    "import matplotlib.lines as lines\n",
    "import scipy\n",
    "import math"
   ]
  },
  {
   "cell_type": "code",
   "execution_count": 11,
   "metadata": {
    "metadata": {}
   },
   "outputs": [],
   "source": [
    "Kv = 55\n",
    "Kt = .188 # Warning: given in bus reference frame, unsure how to convert\n",
    "R_phi = 1.1\n",
    "\n",
    "# PROFILES\n",
    "angular_position = np.linspace(0, 20, 100) # radians\n",
    "angular_velocity = np.gradient(angular_position) # radians / s\n",
    "torque = np.linspace(0, 20, 100)"
   ]
  },
  {
   "cell_type": "code",
   "execution_count": 12,
   "metadata": {
    "metadata": {}
   },
   "outputs": [],
   "source": [
    "Kt_phi_bar = Kt ## QUESTION: IS THIS THE SAME ##\n",
    "\n",
    "\n",
    "Kb_phi_a = -Kt_phi_bar * np.sin(angular_position)\n",
    "Kb_phi_b = -Kt_phi_bar * np.sin(angular_position - (2 * math.pi / 3))\n",
    "Kb_phi_c = -Kt_phi_bar * np.sin(angular_position + (2 * math.pi / 3))\n",
    "backEMF = Kb_phi_a * angular_velocity + Kb_phi_b * angular_velocity + Kb_phi_c * angular_velocity\n",
    "\n",
    "I_phi_bar = (2/3) * torque / Kt_phi_bar\n",
    "\n",
    "I_q = math.sqrt(3/2) * I_phi_bar\n",
    "power_loss = I_q * I_q * R_phi"
   ]
  },
  {
   "cell_type": "markdown",
   "metadata": {},
   "source": [
    "Ia = -I_phi_bar * np.sin(angular_position)\n",
    "Ib = -I_phi_bar * np.sin(angular_position - (2 * math.pi / 3))\n",
    "Ic = -I_phi_bar * np.sin(angular_position + (2 * math.pi / 3))\n",
    "\n",
    "torque_phi_A = Ia * Kt_phi_a\n",
    "torque_phi_B = Ib * Kt_phi_b\n",
    "torque_phi_C = Ic * Kt_phi_c"
   ]
  }
 ],
 "metadata": {
  "kernelspec": {
   "display_name": "Python 3",
   "language": "python",
   "name": "python3"
  },
  "language_info": {
   "codemirror_mode": {
    "name": "ipython",
    "version": 3
   },
   "file_extension": ".py",
   "mimetype": "text/x-python",
   "name": "python",
   "nbconvert_exporter": "python",
   "pygments_lexer": "ipython3",
   "version": "3.8.10"
  }
 },
 "nbformat": 4,
 "nbformat_minor": 2
}
