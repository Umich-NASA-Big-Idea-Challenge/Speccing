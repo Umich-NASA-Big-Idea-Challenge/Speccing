{
 "cells": [
  {
   "cell_type": "code",
   "execution_count": 1,
   "metadata": {
    "metadata": {}
   },
   "outputs": [],
   "source": [
    "import numpy as np\n",
    "import matplotlib.pyplot as plt\n",
    "import matplotlib.lines as lines\n",
    "import scipy\n",
    "import math"
   ]
  },
  {
   "cell_type": "code",
   "execution_count": 2,
   "metadata": {
    "metadata": {}
   },
   "outputs": [
    {
     "name": "stdout",
     "output_type": "stream",
     "text": [
      "[1 2 3]\n",
      "[1. 1. 1.]\n"
     ]
    }
   ],
   "source": [
    "# MOTOR SPECS\n",
    "Kv = 330\n",
    "Kt = 60 / ( 2 * math.pi * Kv)\n",
    "R_phi = 1 ## QUESTION: UNSURE HOW TO CALCULATE ## phase to phase resistance\n",
    "\n",
    "\n",
    "# PROFILES\n",
    "angular_position = np.array([1, 2, 3]) # radians\n",
    "angular_velocity = np.gradient(angular_position) # radians / s\n",
    "\n",
    "print(angular_position)\n",
    "print(angular_velocity)"
   ]
  },
  {
   "cell_type": "code",
   "execution_count": 3,
   "metadata": {
    "metadata": {}
   },
   "outputs": [
    {
     "name": "stdout",
     "output_type": "stream",
     "text": [
      "[-7.45931095e-17 -8.32667268e-17 -2.77555756e-17]\n",
      "[-7.45931095e-17 -8.32667268e-17 -2.77555756e-17]\n"
     ]
    }
   ],
   "source": [
    "Kt_phi_bar = Kt ## QUESTION: IS THIS THE SAME ##\n",
    "I_phi_bar = 1  ## QUESTION: HOW TO GET ## Amplitude of the phase current\n",
    "\n",
    "torque = (3 / 2) * Kt_phi_bar * I_phi_bar\n",
    "\n",
    "Kt_phi_a = -Kt * np.sin(angular_position)\n",
    "Kt_phi_b = -Kt * np.sin(angular_position - (2 * math.pi / 3))\n",
    "Kt_phi_c = -Kt * np.sin(angular_position + (2 * math.pi / 3))\n",
    "backEMF = Kt_phi_a * angular_velocity + Kt_phi_b * angular_velocity + Kt_phi_c * angular_velocity\n",
    "\n",
    "R_ll = 2 * R_phi\n",
    "\n",
    "R_phi = (1/2) * R_ll\n",
    "I_q = math.sqrt(3/2) * I_phi_bar\n",
    "power_loss = I_q * I_q * R_phi\n",
    "\n",
    "print(torque)\n",
    "print(backEMF)"
   ]
  },
  {
   "cell_type": "markdown",
   "metadata": {},
   "source": [
    "Luke being a dumb dumb\n",
    "\n",
    "Ia = -I_phi_bar * np.sin(angular_position)\n",
    "Ib = -I_phi_bar * np.sin(angular_position - (2 * math.pi / 3))\n",
    "Ic = -I_phi_bar * np.sin(angular_position + (2 * math.pi / 3))\n",
    "\n",
    "torque_phi_A = Ia * Kt_phi_a\n",
    "torque_phi_B = Ib * Kt_phi_b\n",
    "torque_phi_C = Ic * Kt_phi_c"
   ]
  }
 ],
 "metadata": {
  "kernelspec": {
   "display_name": "Python 3",
   "language": "python",
   "name": "python3"
  },
  "language_info": {
   "codemirror_mode": {
    "name": "ipython",
    "version": 3
   },
   "file_extension": ".py",
   "mimetype": "text/x-python",
   "name": "python",
   "nbconvert_exporter": "python",
   "pygments_lexer": "ipython3",
   "version": "3.8.10"
  }
 },
 "nbformat": 4,
 "nbformat_minor": 2
}
