{
 "cells": [
  {
   "cell_type": "code",
   "execution_count": 65,
   "id": "14a65768",
   "metadata": {},
   "outputs": [],
   "source": [
    "import numpy as np\n",
    "import matplotlib.pyplot as plt\n",
    "import matplotlib.lines as lines\n",
    "import matplotlib.colors as mcolors\n",
    "from scipy.interpolate import CubicSpline"
   ]
  },
  {
   "cell_type": "code",
   "execution_count": 99,
   "id": "5d7f659a",
   "metadata": {},
   "outputs": [],
   "source": [
    "colors = ['b', 'g', 'r', 'c', 'm', 'y', 'k', 'w']"
   ]
  },
  {
   "cell_type": "code",
   "execution_count": 118,
   "id": "cf3c3fc1",
   "metadata": {},
   "outputs": [
    {
     "ename": "IndentationError",
     "evalue": "expected an indented block (Temp/ipykernel_5260/2641320148.py, line 22)",
     "output_type": "error",
     "traceback": [
      "\u001b[1;36m  File \u001b[1;32m\"C:\\Users\\MICHAE~1\\AppData\\Local\\Temp/ipykernel_5260/2641320148.py\"\u001b[1;36m, line \u001b[1;32m22\u001b[0m\n\u001b[1;33m    if x_k_dot == smoothed_velocty:\u001b[0m\n\u001b[1;37m                                   ^\u001b[0m\n\u001b[1;31mIndentationError\u001b[0m\u001b[1;31m:\u001b[0m expected an indented block\n"
     ]
    }
   ],
   "source": [
    "# % VELOCITY PROFILE GENERATION\n",
    "x_k_dot_final = 1                                                      # Final ball-bot velocity (m/s)\n",
    "t_final = 20                                                           # Duration of the simulation (s)\n",
    "t_constant = 6 # Ramp lasts from 2.5 s to t_constant                   # Time to reach constant final velocity (s)\n",
    "dt = 1/200                                                             # Simulation timestep\n",
    "t_length = int(t_final/dt)                                             # Length of time vector\n",
    "t = np.linspace(0, t_final, t_length)                                  # Time vector (s)\n",
    "\n",
    "\n",
    "linear = np.linspace(0,x_k_dot_final, (round(t_length*(t_constant/t_final))-500) ) \n",
    "x_k_dot = np.concatenate((np.zeros(500), linear, x_k_dot_final*np.ones(4000-1200)))                      # Velocity vector (m/s)\n",
    "x_k_dot[np.arange(len(x_k_dot),t_length,1)] = x_k_dot_final          # Velocity vector (m/s)\n",
    "\n",
    "plt.figure(dpi=300)\n",
    "plt.plot(t,x_k_dot,colors[0])\n",
    "plt.xlabel('Time(s)')\n",
    "plt.ylabel('Velocity (m/s)')\n",
    "smoothed_velocty = CubicSpline(t,x_k_dot)\n",
    "type(smoothed_velocty(t))\n",
    "plt.plot(t,smoothed_velocty(t),colors[1])\n",
    "plt.axis([0,2.75,0,.2])\n",
    "if x_k_dot == smoothed_velocty:"
   ]
  },
  {
   "cell_type": "code",
   "execution_count": null,
   "id": "073e17d8",
   "metadata": {},
   "outputs": [],
   "source": []
  },
  {
   "cell_type": "code",
   "execution_count": null,
   "id": "e036d700",
   "metadata": {},
   "outputs": [],
   "source": []
  }
 ],
 "metadata": {
  "kernelspec": {
   "display_name": "Python 3 (ipykernel)",
   "language": "python",
   "name": "python3"
  },
  "language_info": {
   "codemirror_mode": {
    "name": "ipython",
    "version": 3
   },
   "file_extension": ".py",
   "mimetype": "text/x-python",
   "name": "python",
   "nbconvert_exporter": "python",
   "pygments_lexer": "ipython3",
   "version": "3.9.5"
  }
 },
 "nbformat": 4,
 "nbformat_minor": 5
}
