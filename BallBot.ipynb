{
 "cells": [
  {
   "cell_type": "code",
   "execution_count": 1,
   "id": "48f5369e-3794-4159-b245-356004726904",
   "metadata": {},
   "outputs": [],
   "source": [
    "import numpy as np\n",
    "import matplotlib.pyplot as plt"
   ]
  },
  {
   "cell_type": "code",
   "execution_count": 2,
   "id": "438a5486-6a57-411d-ad25-b39b6c15fa5d",
   "metadata": {},
   "outputs": [],
   "source": [
    "# BALL-BOT PARAMETERS\n",
    "m_a = 1.7194                                                           # Mass of the body (kg)                                \n",
    "m_k = 0.62                                                             # Mass of the ball (kg)\n",
    "m_w = 0.29                                                             # Mass of the wheel (kg)\n",
    "r_k = 0.121                                                            # Radius of the ball (m)\n",
    "r_w = 0.096                                                            # Radius of the wheel (m)\n",
    "L = 0.2311                                                             # Distance to the center of mass of the body\n",
    "I_k = 0.0036                                                           # Moment of inertia of the ball (kgm^2)\n",
    "I_w = 0.0015                                                           # Moment of inertia of the wheel (kgm^2)\n",
    "I_x = 0.0115                                                           # Moment of inertia of the body in X-Z plane\n",
    "I_y = I_x                                                              # Moment of inertia of the body in the Y-Z plane\n",
    "I_z = 0.0170                                                           # Moment of inertia of the body in the X-Y plane\n",
    "g = 9.81                                                               # Gravity (m/s/s)\n"
   ]
  },
  {
   "cell_type": "code",
   "execution_count": 3,
   "id": "a9aadde5-9622-4a21-9724-a81394e8387a",
   "metadata": {},
   "outputs": [],
   "source": [
    "# MOTOR PARAMETERS - found from: https://www.pololu.com/product/4754/specs\n",
    "N = 35                                                                 # Transmission ratio\n",
    "eta = 0.8                                                              # Transmission efficiency\n",
    "stall_torque = 2.65/N                                                 # Motor properties obtained from Pololu website\n",
    "stall_current = 5.5\n",
    "stall_voltage = 12\n",
    "\n",
    "noload_speed = 15.71*N\n",
    "noload_current = 0.2\n",
    "\n",
    "Kt = stall_torque/stall_current                                        # Torque / back-EMF constant (Nm/A)\n",
    "R = stall_voltage/stall_current                                        # Terminal resistance (Ohms)\n",
    "b = (noload_current*Kt)/noload_speed                                   # Viscous damping (Nms/rad)\n",
    "L_w = 0.023                                                              # Motor inductance (H)\n",
    "J = 0.000025                                                           # Motor's rotor inertia (kgm^2) - estimated from 35mm Maxon motor"
   ]
  },
  {
   "cell_type": "code",
   "execution_count": 9,
   "id": "15c7e402-3633-4e62-b332-d6107bebdabb",
   "metadata": {},
   "outputs": [
    {
     "ename": "SyntaxError",
     "evalue": "invalid syntax (2014279179.py, line 10)",
     "output_type": "error",
     "traceback": [
      "\u001b[1;36m  Cell \u001b[1;32mIn[9], line 10\u001b[1;36m\u001b[0m\n\u001b[1;33m    x_k_dot([ength(x_k_dot):t_length]) = x_k_dot_final;                      # Velocity vector (m/s)\u001b[0m\n\u001b[1;37m                           ^\u001b[0m\n\u001b[1;31mSyntaxError\u001b[0m\u001b[1;31m:\u001b[0m invalid syntax\n"
     ]
    }
   ],
   "source": [
    "# VELOCITY PROFILE GENERATION\n",
    "x_k_dot_final = 1                                                      # Final ball-bot velocity (m/s)\n",
    "t_final = 20                                                           # Duration of the simulation (s)\n",
    "t_constant = 6 # Ramp lasts from 2.5 s to t_constant                                                       # Time to reach constant final velocity (s)\n",
    "dt = 1/200                                                             # Simulation timestep\n",
    "t_length = t_final/dt                                                  # Length of time vector\n",
    "t = linspace(0,t_final, t_length)                                      # Time vector (s)\n",
    "\n",
    "x_k_dot = [np.zero(1,500) * linspace(0,x_k_dot_final, (round(t_length*(t_constant/t_final))-500))] # Velocity vector (m/s)\n",
    "x_k_dot([ength(x_k_dot):t_length]) = x_k_dot_final                      # Velocity vector (m/s)\n"
   ]
  },
  {
   "cell_type": "code",
   "execution_count": 10,
   "id": "f1120f12-559e-49ed-96e1-81ea74557ff8",
   "metadata": {},
   "outputs": [
    {
     "ename": "SyntaxError",
     "evalue": "invalid syntax (4069135148.py, line 4)",
     "output_type": "error",
     "traceback": [
      "\u001b[1;36m  Cell \u001b[1;32mIn[10], line 4\u001b[1;36m\u001b[0m\n\u001b[1;33m    hold on\u001b[0m\n\u001b[1;37m         ^\u001b[0m\n\u001b[1;31mSyntaxError\u001b[0m\u001b[1;31m:\u001b[0m invalid syntax\n"
     ]
    }
   ],
   "source": [
    "# PLOT BALL-BOT TRAJECTORY (x_k)\n",
    "figure\n",
    "plot(t, x_k_dot, 'linewidth',2)\n",
    "hold on\n",
    "xlabel('Time (s)')\n",
    "ylabel('Linear Velocity (m/s)')\n"
   ]
  },
  {
   "cell_type": "code",
   "execution_count": 11,
   "id": "0648b16a-d3a5-4b3e-8fb0-29f2ac8fdaeb",
   "metadata": {},
   "outputs": [
    {
     "ename": "SyntaxError",
     "evalue": "invalid syntax (3174164426.py, line 2)",
     "output_type": "error",
     "traceback": [
      "\u001b[1;36m  Cell \u001b[1;32mIn[11], line 2\u001b[1;36m\u001b[0m\n\u001b[1;33m    x_k_dot = smoothdata(x_k_dot, 'gaussian', 500);                         % Low pass filter to smooth disontinuous velocity profile\u001b[0m\n\u001b[1;37m                                                                            ^\u001b[0m\n\u001b[1;31mSyntaxError\u001b[0m\u001b[1;31m:\u001b[0m invalid syntax\n"
     ]
    }
   ],
   "source": [
    "# SMOOTH STEP FUNCTION AND PLOT TO SHOW DIFFERENCE\n",
    "x_k_dot = smoothdata(x_k_dot, 'gaussian', 500)                         # Low pass filter to smooth disontinuous velocity profile\n",
    "#x_k_dot = lowpass(x_k_dot,.1,1/dt,'ImpulseResponse','iir','Steepness',0.75) # This is a different way to smooth the signal--it uses a low-pass filter.\n",
    "plot(t,x_k_dot, 'linewidth',2)\n"
   ]
  },
  {
   "cell_type": "code",
   "execution_count": 12,
   "id": "b26c68d3-41bf-4bb1-929a-aaad9544e9e2",
   "metadata": {},
   "outputs": [
    {
     "ename": "SyntaxError",
     "evalue": "invalid syntax (3454693587.py, line 2)",
     "output_type": "error",
     "traceback": [
      "\u001b[1;36m  Cell \u001b[1;32mIn[12], line 2\u001b[1;36m\u001b[0m\n\u001b[1;33m    x_k_ddot = ddt(x_k_dot, dt);                                            % Ball-bot acceleration vector (m/s/s)\u001b[0m\n\u001b[1;37m                                                                            ^\u001b[0m\n\u001b[1;31mSyntaxError\u001b[0m\u001b[1;31m:\u001b[0m invalid syntax\n"
     ]
    }
   ],
   "source": [
    "\n",
    "# POSITION AND ACCELERATION GENERATION\n",
    "x_k_ddot = ddt(x_k_dot, dt)                                            # Ball-bot acceleration vector (m/s/s)\n",
    "x_k = cumsum(x_k_dot)*dt                                               # Integrating, ball-bot position vector (m)\n"
   ]
  },
  {
   "cell_type": "code",
   "execution_count": null,
   "id": "d3612a4d-855c-476b-a3f5-54a14ff14209",
   "metadata": {},
   "outputs": [],
   "source": [
    "# PLOTTING ACCELERATION\n",
    "figure\n",
    "plot(t, x_k_ddot,'linewidth',2)\n",
    "xlabel('Time (s)')\n",
    "ylabel('Linear Acceleration (m/s^2)')"
   ]
  },
  {
   "cell_type": "code",
   "execution_count": 15,
   "id": "f3c8aa73-53ae-44f3-9a04-d7bde719759f",
   "metadata": {},
   "outputs": [
    {
     "ename": "SyntaxError",
     "evalue": "invalid syntax (149472461.py, line 3)",
     "output_type": "error",
     "traceback": [
      "\u001b[1;36m  Cell \u001b[1;32mIn[15], line 3\u001b[1;36m\u001b[0m\n\u001b[1;33m    theta_scale = .25;                                                      % Scaling factor for calcuation of lean angle\u001b[0m\n\u001b[1;37m                                                                            ^\u001b[0m\n\u001b[1;31mSyntaxError\u001b[0m\u001b[1;31m:\u001b[0m invalid syntax\n"
     ]
    }
   ],
   "source": [
    "# LEAN ANGLE - Some contraints on this variable to make the simulation\n",
    "# realistic.  \n",
    "theta_scale = .25                                                      # Scaling factor for calcuation of lean angle\n",
    "theta = theta_scale * x_k_ddot                                         # Body lean angle (rad)                                                        # Lean angle starts at zero rads\n"
   ]
  },
  {
   "cell_type": "code",
   "execution_count": 16,
   "id": "36a37ee6-b30c-48f8-ba13-70a3f0d5a989",
   "metadata": {},
   "outputs": [
    {
     "name": "stderr",
     "output_type": "stream",
     "text": [
      "UsageError: Line magic function `%` not found.\n"
     ]
    }
   ],
   "source": [
    "# PLOTTING LEAN ANGLE\n",
    "figure\n",
    "plot(t, theta, 'linewidth',2)\n",
    "xlabel('Time (s)')\n",
    "ylabel('Lean Angle (rad)')\n",
    "\n",
    "theta_dot = ddt(theta, dt)                                             # Angular velocty of the lean angle (rad/s)\n",
    "theta_ddot = ddt(theta_dot, dt)                                        # Angular acceleration of the lean angle (rad/s/s)"
   ]
  },
  {
   "cell_type": "code",
   "execution_count": 20,
   "id": "fa29193c-2d4f-4791-a6dc-d31cb84b20f3",
   "metadata": {},
   "outputs": [
    {
     "ename": "SyntaxError",
     "evalue": "invalid syntax (964105051.py, line 2)",
     "output_type": "error",
     "traceback": [
      "\u001b[1;36m  Cell \u001b[1;32mIn[20], line 2\u001b[1;36m\u001b[0m\n\u001b[1;33m    phi_ddot = x_k_ddot / r_k;                                              % Angular acceleration of the ball\u001b[0m\n\u001b[1;37m                                                                            ^\u001b[0m\n\u001b[1;31mSyntaxError\u001b[0m\u001b[1;31m:\u001b[0m invalid syntax\n"
     ]
    }
   ],
   "source": [
    "# BALL ACCELERATION\n",
    "phi_ddot = x_k_ddot / r_k                                              # Angular acceleration of the ball\n",
    "phi_dot = x_k_dot / r_k                                                # Angular velocity of the ball\n"
   ]
  },
  {
   "cell_type": "code",
   "execution_count": 22,
   "id": "3ba890e9-40c7-47af-bfcd-2a508085cb5e",
   "metadata": {},
   "outputs": [
    {
     "ename": "SyntaxError",
     "evalue": "invalid syntax (2807770004.py, line 2)",
     "output_type": "error",
     "traceback": [
      "\u001b[1;36m  Cell \u001b[1;32mIn[22], line 2\u001b[1;36m\u001b[0m\n\u001b[1;33m    gamma = L * m_a + (r_k + r_w) * m_w;                                    % Temporary variable gamma\u001b[0m\n\u001b[1;37m                                                                            ^\u001b[0m\n\u001b[1;31mSyntaxError\u001b[0m\u001b[1;31m:\u001b[0m invalid syntax\n"
     ]
    }
   ],
   "source": [
    "# TEMP VARIABLE\n",
    "gamma = L * m_a + (r_k + r_w) * m_w                                    # Temporary variable gamma\n",
    "\n",
    "# CONTACT FORCE\n",
    "F_w_2 = (m_a + m_w) * (g * sin(theta) - r_k * phi_ddot .* cos(theta)) - gamma .* theta_ddot    # Contact force between wheel and ball\n",
    "\n",
    "# WHEEL ACCELERATION\n",
    "psi_ddot = (r_k / r_w) * (phi_ddot - theta_ddot) - theta_ddot          # Angular acceleration of the wheels (rad/s/s)\n",
    "psi_dot = (r_k / r_w) * (phi_dot - theta_dot) - theta_dot              # Angular velocity of the wheels (rad/s)\n",
    "\n",
    "# REQUIRED WHEEL TORQUE\n",
    "T_x = I_w * psi_ddot + F_w_2 * r_w                                     # Total wheel torque (Nm)\n",
    "\n",
    "# MOTOR CURRENT AND VOLTAGE\n",
    "i_winding = (T_x/(N * eta) + J * psi_ddot * N + b * psi_dot * N)/Kt    # Motor current (A)\n",
    "di_winding = ddt(i_winding, dt)                                        # Derivative of motor current\n",
    "v_winding = i_winding * R + (Kt * psi_dot * N) + L_w * di_winding        # Motor voltage (V)\n"
   ]
  },
  {
   "cell_type": "code",
   "execution_count": null,
   "id": "e9f48db7-185d-49af-872e-9c6c531b9adf",
   "metadata": {},
   "outputs": [],
   "source": [
    "# MORE PLOTTING \n",
    "figure\n",
    "plot(t, T_x, 'linewidth', 2)\n",
    "xlabel('Time (s)')\n",
    "ylabel('Torque (Nm)')\n",
    "\n",
    "figure\n",
    "subplot(211)\n",
    "plot(t, i_winding, 'linewidth', 2)\n",
    "xlabel('Time (s)')\n",
    "ylabel('Motor Current (A)')\n",
    "subplot(212)\n",
    "plot(t, v_winding, 'linewidth', 2)\n",
    "xlabel('Time (s)')\n",
    "ylabel('Motor Voltage (V)')\n"
   ]
  }
 ],
 "metadata": {
  "kernelspec": {
   "display_name": "Python 3 (ipykernel)",
   "language": "python",
   "name": "python3"
  },
  "language_info": {
   "codemirror_mode": {
    "name": "ipython",
    "version": 3
   },
   "file_extension": ".py",
   "mimetype": "text/x-python",
   "name": "python",
   "nbconvert_exporter": "python",
   "pygments_lexer": "ipython3",
   "version": "3.11.7"
  }
 },
 "nbformat": 4,
 "nbformat_minor": 5
}
