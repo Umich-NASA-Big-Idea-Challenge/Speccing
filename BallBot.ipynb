{
 "cells": [
  {
   "cell_type": "code",
   "execution_count": 4,
   "id": "48f5369e-3794-4159-b245-356004726904",
   "metadata": {},
   "outputs": [
    {
     "ename": "LoadError",
     "evalue": "IOError: could not spawn setenv(`7z.exe x 'C:\\Users\\mbrob\\.julia\\registries\\General.tar.gz' -so`,[\"WINDIR=C:\\\\Windows\", \"PATH=C:\\\\Users\\\\mbrob\\\\.julia\\\\juliaup\\\\julia-1.10.0+0.x64.w64.mingw32\\\\bin\\\\..\\\\lib\\\\julia;C:\\\\Users\\\\mbrob\\\\.julia\\\\juliaup\\\\julia-1.10.0+0.x64.w64.mingw32\\\\bin\\\\..\\\\lib;C:\\\\Users\\\\mbrob\\\\anaconda3;C:\\\\Users\\\\mbrob\\\\anaconda3\\\\Library\\\\mingw-w64\\\\bin;C:\\\\Users\\\\mbrob\\\\anaconda3\\\\Library\\\\usr\\\\bin;C:\\\\Users\\\\mbrob\\\\anaconda3\\\\Library\\\\bin;C:\\\\Users\\\\mbrob\\\\anaconda3\\\\Scripts;C:\\\\Program Files\\\\Eclipse Adoptium\\\\jdk-8.0.402.6-hotspot\\\\bin;C:\\\\Program Files\\\\Eclipse Adoptium\\\\jdk-21.0.2.13-hotspot\\\\bin;C:\\\\Program Files (x86)\\\\Common Files\\\\Oracle\\\\Java\\\\javapath;C:\\\\Windows\\\\system32;C:\\\\Windows;C:\\\\Windows\\\\System32\\\\Wbem;C:\\\\Windows\\\\System32\\\\WindowsPowerShell\\\\v1.0\\\\;C:\\\\Windows\\\\System32\\\\OpenSSH\\\\;C:\\\\Program Files (x86)\\\\NVIDIA Corporation\\\\PhysX\\\\Common;C:\\\\Program Files\\\\MATLAB\\\\R2023a\\\\bin;C:\\\\Program Files\\\\Git\\\\cmd;C:\\\\Program Files\\\\dotnet\\\\;C:\\\\Program Files\\\\Microsoft SQL Server\\\\Client SDK\\\\ODBC\\\\170\\\\Tools\\\\Binn\\\\;C:\\\\Program Files (x86)\\\\Microsoft SQL Server\\\\150\\\\Tools\\\\Binn\\\\;C:\\\\Program Files\\\\Microsoft SQL Server\\\\150\\\\Tools\\\\Binn\\\\;C:\\\\Program Files\\\\Microsoft SQL Server\\\\150\\\\DTS\\\\Binn\\\\;C:\\\\Program Files (x86)\\\\Windows Kits\\\\8.1\\\\Windows Performance Toolkit\\\\;C:\\\\Users\\\\mbrob\\\\AppData\\\\Local\\\\Programs\\\\Python\\\\Python310\\\\Scripts\\\\;C:\\\\Users\\\\mbrob\\\\AppData\\\\Local\\\\Programs\\\\Python\\\\Python310\\\\;C:\\\\Users\\\\mbrob\\\\AppData\\\\Local\\\\Microsoft\\\\WindowsApps;;C:\\\\Users\\\\mbrob\\\\AppData\\\\Local\\\\Programs\\\\Microsoft VS Code\\\\bin\", \"USERDOMAIN_ROAMINGPROFILE=DESKTOP-H1D82BK\", \"JPY_INTERRUPT_EVENT=3968\", \"LOCALAPPDATA=C:\\\\Users\\\\mbrob\\\\AppData\\\\Local\", \"HOMEPATH=\\\\Users\\\\mbrob\", \"PROCESSOR_IDENTIFIER=AMD64 Family 25 Model 33 Stepping 0, AuthenticAMD\", \"NUMBER_OF_PROCESSORS=16\", \"PATHEXT=.COM;.EXE;.BAT;.CMD;.VBS;.VBE;.JS;.JSE;.WSF;.WSH;.MSC\", \"SESSIONNAME=Console\", \"SYSTEMROOT=C:\\\\Windows\", \"APPDATA=C:\\\\Users\\\\mbrob\\\\AppData\\\\Roaming\", \"PSMODULEPATH=C:\\\\Program Files\\\\WindowsPowerShell\\\\Modules;C:\\\\Windows\\\\system32\\\\WindowsPowerShell\\\\v1.0\\\\Modules;C:\\\\Program Files (x86)\\\\Microsoft SQL Server\\\\150\\\\Tools\\\\PowerShell\\\\Modules\\\\\", \"COMMONPROGRAMW6432=C:\\\\Program Files\\\\Common Files\", \"PROGRAMDATA=C:\\\\ProgramData\", \"PUBLIC=C:\\\\Users\\\\Public\", \"USERDOMAIN=DESKTOP-H1D82BK\", \"OS=Windows_NT\", \"PROCESSOR_REVISION=2100\", \"TMP=C:\\\\Users\\\\mbrob\\\\AppData\\\\Local\\\\Temp\", \"ONEDRIVECOMMERCIAL=C:\\\\Users\\\\mbrob\\\\OneDrive - Umich\", \"COMMONPROGRAMFILES(X86)=C:\\\\Program Files (x86)\\\\Common Files\", \"COMSPEC=C:\\\\Windows\\\\system32\\\\cmd.exe\", \"OPENBLAS_DEFAULT_NUM_THREADS=1\", \"ALLUSERSPROFILE=C:\\\\ProgramData\", \"COMMONPROGRAMFILES=C:\\\\Program Files\\\\Common Files\", \"COMPUTERNAME=DESKTOP-H1D82BK\", \"ONEDRIVE=C:\\\\Users\\\\mbrob\\\\OneDrive - Umich\", \"USERNAME=mbrob\", \"JPY_SESSION_NAME=C:\\\\Users\\\\mbrob\\\\Documents\\\\NASA\\\\Speccing\\\\BallBot.ipynb\", \"COLUMNS=80\", \"IPY_INTERRUPT_EVENT=3968\", \"PROGRAMFILES(X86)=C:\\\\Program Files (x86)\", \"PROGRAMFILES=C:\\\\Program Files\", \"JPY_PARENT_PID=3424\", \"LOGONSERVER=\\\\\\\\DESKTOP-H1D82BK\", \"ONEDRIVECONSUMER=C:\\\\Users\\\\mbrob\\\\OneDrive\", \"USERPROFILE=C:\\\\Users\\\\mbrob\", \"DRIVERDATA=C:\\\\Windows\\\\System32\\\\Drivers\\\\DriverData\", \"CONDA_PREFIX=C:\\\\Users\\\\mbrob\\\\anaconda3\", \"PYDEVD_USE_FRAME_EVAL=NO\", \"FPS_BROWSER_USER_PROFILE_STRING=Default\", \"PROCESSOR_LEVEL=25\", \"SYSTEMDRIVE=C:\", \"LINES=30\", \"FPS_BROWSER_APP_PROFILE_STRING=Internet Explorer\", \"PROGRAMW6432=C:\\\\Program Files\", \"TEMP=C:\\\\Users\\\\mbrob\\\\AppData\\\\Local\\\\Temp\", \"HOMEDRIVE=C:\", \"OPENBLAS_MAIN_FREE=1\", \"PROCESSOR_ARCHITECTURE=AMD64\"]): no such file or directory (ENOENT)",
     "output_type": "error",
     "traceback": [
      "IOError: could not spawn setenv(`7z.exe x 'C:\\Users\\mbrob\\.julia\\registries\\General.tar.gz' -so`,[\"WINDIR=C:\\\\Windows\", \"PATH=C:\\\\Users\\\\mbrob\\\\.julia\\\\juliaup\\\\julia-1.10.0+0.x64.w64.mingw32\\\\bin\\\\..\\\\lib\\\\julia;C:\\\\Users\\\\mbrob\\\\.julia\\\\juliaup\\\\julia-1.10.0+0.x64.w64.mingw32\\\\bin\\\\..\\\\lib;C:\\\\Users\\\\mbrob\\\\anaconda3;C:\\\\Users\\\\mbrob\\\\anaconda3\\\\Library\\\\mingw-w64\\\\bin;C:\\\\Users\\\\mbrob\\\\anaconda3\\\\Library\\\\usr\\\\bin;C:\\\\Users\\\\mbrob\\\\anaconda3\\\\Library\\\\bin;C:\\\\Users\\\\mbrob\\\\anaconda3\\\\Scripts;C:\\\\Program Files\\\\Eclipse Adoptium\\\\jdk-8.0.402.6-hotspot\\\\bin;C:\\\\Program Files\\\\Eclipse Adoptium\\\\jdk-21.0.2.13-hotspot\\\\bin;C:\\\\Program Files (x86)\\\\Common Files\\\\Oracle\\\\Java\\\\javapath;C:\\\\Windows\\\\system32;C:\\\\Windows;C:\\\\Windows\\\\System32\\\\Wbem;C:\\\\Windows\\\\System32\\\\WindowsPowerShell\\\\v1.0\\\\;C:\\\\Windows\\\\System32\\\\OpenSSH\\\\;C:\\\\Program Files (x86)\\\\NVIDIA Corporation\\\\PhysX\\\\Common;C:\\\\Program Files\\\\MATLAB\\\\R2023a\\\\bin;C:\\\\Program Files\\\\Git\\\\cmd;C:\\\\Program Files\\\\dotnet\\\\;C:\\\\Program Files\\\\Microsoft SQL Server\\\\Client SDK\\\\ODBC\\\\170\\\\Tools\\\\Binn\\\\;C:\\\\Program Files (x86)\\\\Microsoft SQL Server\\\\150\\\\Tools\\\\Binn\\\\;C:\\\\Program Files\\\\Microsoft SQL Server\\\\150\\\\Tools\\\\Binn\\\\;C:\\\\Program Files\\\\Microsoft SQL Server\\\\150\\\\DTS\\\\Binn\\\\;C:\\\\Program Files (x86)\\\\Windows Kits\\\\8.1\\\\Windows Performance Toolkit\\\\;C:\\\\Users\\\\mbrob\\\\AppData\\\\Local\\\\Programs\\\\Python\\\\Python310\\\\Scripts\\\\;C:\\\\Users\\\\mbrob\\\\AppData\\\\Local\\\\Programs\\\\Python\\\\Python310\\\\;C:\\\\Users\\\\mbrob\\\\AppData\\\\Local\\\\Microsoft\\\\WindowsApps;;C:\\\\Users\\\\mbrob\\\\AppData\\\\Local\\\\Programs\\\\Microsoft VS Code\\\\bin\", \"USERDOMAIN_ROAMINGPROFILE=DESKTOP-H1D82BK\", \"JPY_INTERRUPT_EVENT=3968\", \"LOCALAPPDATA=C:\\\\Users\\\\mbrob\\\\AppData\\\\Local\", \"HOMEPATH=\\\\Users\\\\mbrob\", \"PROCESSOR_IDENTIFIER=AMD64 Family 25 Model 33 Stepping 0, AuthenticAMD\", \"NUMBER_OF_PROCESSORS=16\", \"PATHEXT=.COM;.EXE;.BAT;.CMD;.VBS;.VBE;.JS;.JSE;.WSF;.WSH;.MSC\", \"SESSIONNAME=Console\", \"SYSTEMROOT=C:\\\\Windows\", \"APPDATA=C:\\\\Users\\\\mbrob\\\\AppData\\\\Roaming\", \"PSMODULEPATH=C:\\\\Program Files\\\\WindowsPowerShell\\\\Modules;C:\\\\Windows\\\\system32\\\\WindowsPowerShell\\\\v1.0\\\\Modules;C:\\\\Program Files (x86)\\\\Microsoft SQL Server\\\\150\\\\Tools\\\\PowerShell\\\\Modules\\\\\", \"COMMONPROGRAMW6432=C:\\\\Program Files\\\\Common Files\", \"PROGRAMDATA=C:\\\\ProgramData\", \"PUBLIC=C:\\\\Users\\\\Public\", \"USERDOMAIN=DESKTOP-H1D82BK\", \"OS=Windows_NT\", \"PROCESSOR_REVISION=2100\", \"TMP=C:\\\\Users\\\\mbrob\\\\AppData\\\\Local\\\\Temp\", \"ONEDRIVECOMMERCIAL=C:\\\\Users\\\\mbrob\\\\OneDrive - Umich\", \"COMMONPROGRAMFILES(X86)=C:\\\\Program Files (x86)\\\\Common Files\", \"COMSPEC=C:\\\\Windows\\\\system32\\\\cmd.exe\", \"OPENBLAS_DEFAULT_NUM_THREADS=1\", \"ALLUSERSPROFILE=C:\\\\ProgramData\", \"COMMONPROGRAMFILES=C:\\\\Program Files\\\\Common Files\", \"COMPUTERNAME=DESKTOP-H1D82BK\", \"ONEDRIVE=C:\\\\Users\\\\mbrob\\\\OneDrive - Umich\", \"USERNAME=mbrob\", \"JPY_SESSION_NAME=C:\\\\Users\\\\mbrob\\\\Documents\\\\NASA\\\\Speccing\\\\BallBot.ipynb\", \"COLUMNS=80\", \"IPY_INTERRUPT_EVENT=3968\", \"PROGRAMFILES(X86)=C:\\\\Program Files (x86)\", \"PROGRAMFILES=C:\\\\Program Files\", \"JPY_PARENT_PID=3424\", \"LOGONSERVER=\\\\\\\\DESKTOP-H1D82BK\", \"ONEDRIVECONSUMER=C:\\\\Users\\\\mbrob\\\\OneDrive\", \"USERPROFILE=C:\\\\Users\\\\mbrob\", \"DRIVERDATA=C:\\\\Windows\\\\System32\\\\Drivers\\\\DriverData\", \"CONDA_PREFIX=C:\\\\Users\\\\mbrob\\\\anaconda3\", \"PYDEVD_USE_FRAME_EVAL=NO\", \"FPS_BROWSER_USER_PROFILE_STRING=Default\", \"PROCESSOR_LEVEL=25\", \"SYSTEMDRIVE=C:\", \"LINES=30\", \"FPS_BROWSER_APP_PROFILE_STRING=Internet Explorer\", \"PROGRAMW6432=C:\\\\Program Files\", \"TEMP=C:\\\\Users\\\\mbrob\\\\AppData\\\\Local\\\\Temp\", \"HOMEDRIVE=C:\", \"OPENBLAS_MAIN_FREE=1\", \"PROCESSOR_ARCHITECTURE=AMD64\"]): no such file or directory (ENOENT)",
      "",
      "Stacktrace:",
      "  [1] _spawn_primitive(file::String, cmd::Cmd, stdio::Vector{Union{RawFD, Base.Libc.WindowsRawSocket, IO}})",
      "    @ Base .\\process.jl:128",
      "  [2] #784",
      "    @ Base .\\process.jl:139 [inlined]",
      "  [3] setup_stdios(f::Base.var\"#784#785\"{Cmd}, stdios::Vector{Union{RawFD, Base.Libc.WindowsRawSocket, IO}})",
      "    @ Base .\\process.jl:223",
      "  [4] _spawn",
      "    @ Base .\\process.jl:138 [inlined]",
      "  [5] open(cmds::Cmd, stdio::Base.DevNull; write::Bool, read::Bool)",
      "    @ Base .\\process.jl:393",
      "  [6] open (repeats 2 times)",
      "    @ Base .\\process.jl:383 [inlined]",
      "  [7] open(::Pkg.Registry.var\"#19#22\"{IOBuffer, Vector{UInt8}, Dict{String, String}}, ::Cmd; kwargs::@Kwargs{})",
      "    @ Base .\\process.jl:415",
      "  [8] open",
      "    @ Base .\\process.jl:414 [inlined]",
      "  [9] uncompress_registry(tar_gz::String)",
      "    @ Pkg.Registry C:\\Users\\mbrob\\.julia\\juliaup\\julia-1.10.0+0.x64.w64.mingw32\\share\\julia\\stdlib\\v1.10\\Pkg\\src\\Registry\\registry_instance.jl:261",
      " [10] Pkg.Registry.RegistryInstance(path::String)",
      "    @ Pkg.Registry C:\\Users\\mbrob\\.julia\\juliaup\\julia-1.10.0+0.x64.w64.mingw32\\share\\julia\\stdlib\\v1.10\\Pkg\\src\\Registry\\registry_instance.jl:328",
      " [11] reachable_registries(; depots::Vector{String})",
      "    @ Pkg.Registry C:\\Users\\mbrob\\.julia\\juliaup\\julia-1.10.0+0.x64.w64.mingw32\\share\\julia\\stdlib\\v1.10\\Pkg\\src\\Registry\\registry_instance.jl:434",
      " [12] reachable_registries",
      "    @ Pkg.Registry C:\\Users\\mbrob\\.julia\\juliaup\\julia-1.10.0+0.x64.w64.mingw32\\share\\julia\\stdlib\\v1.10\\Pkg\\src\\Registry\\registry_instance.jl:404 [inlined]",
      " [13] Pkg.Types.Context()",
      "    @ Pkg.Types C:\\Users\\mbrob\\.julia\\juliaup\\julia-1.10.0+0.x64.w64.mingw32\\share\\julia\\stdlib\\v1.10\\Pkg\\src\\Types.jl:406",
      " [14] precompile(pkgs::Vector{Pkg.Types.PackageSpec}; io::IJulia.IJuliaStdio{Base.PipeEndpoint}, kwargs::@Kwargs{_from_loading::Bool})",
      "    @ Pkg.API C:\\Users\\mbrob\\.julia\\juliaup\\julia-1.10.0+0.x64.w64.mingw32\\share\\julia\\stdlib\\v1.10\\Pkg\\src\\API.jl:150",
      " [15] precompile",
      "    @ Pkg.API C:\\Users\\mbrob\\.julia\\juliaup\\julia-1.10.0+0.x64.w64.mingw32\\share\\julia\\stdlib\\v1.10\\Pkg\\src\\API.jl:147 [inlined]",
      " [16] #precompile#114",
      "    @ Pkg.API C:\\Users\\mbrob\\.julia\\juliaup\\julia-1.10.0+0.x64.w64.mingw32\\share\\julia\\stdlib\\v1.10\\Pkg\\src\\API.jl:146 [inlined]",
      " [17] #invokelatest#2",
      "    @ Base .\\essentials.jl:889 [inlined]",
      " [18] invokelatest",
      "    @ Base .\\essentials.jl:884 [inlined]",
      " [19] _require(pkg::Base.PkgId, env::String)",
      "    @ Base .\\loading.jl:1957",
      " [20] __require_prelocked(uuidkey::Base.PkgId, env::String)",
      "    @ Base .\\loading.jl:1806",
      " [21] #invoke_in_world#3",
      "    @ Base .\\essentials.jl:921 [inlined]",
      " [22] invoke_in_world",
      "    @ Base .\\essentials.jl:918 [inlined]",
      " [23] _require_prelocked(uuidkey::Base.PkgId, env::String)",
      "    @ Base .\\loading.jl:1797",
      " [24] macro expansion",
      "    @ Base .\\loading.jl:1784 [inlined]",
      " [25] macro expansion",
      "    @ Base .\\lock.jl:267 [inlined]",
      " [26] __require(into::Module, mod::Symbol)",
      "    @ Base .\\loading.jl:1747",
      " [27] #invoke_in_world#3",
      "    @ Base .\\essentials.jl:921 [inlined]",
      " [28] invoke_in_world",
      "    @ Base .\\essentials.jl:918 [inlined]",
      " [29] require(into::Module, mod::Symbol)",
      "    @ Base .\\loading.jl:1740"
     ]
    }
   ],
   "source": [
    "using LinearAlgebra\n",
    "using ForwardDiff"
   ]
  },
  {
   "cell_type": "code",
   "execution_count": 1,
   "id": "438a5486-6a57-411d-ad25-b39b6c15fa5d",
   "metadata": {},
   "outputs": [
    {
     "data": {
      "text/plain": [
       "9.81"
      ]
     },
     "execution_count": 1,
     "metadata": {},
     "output_type": "execute_result"
    }
   ],
   "source": [
    "# BALL-BOT PARAMETERS\n",
    "m_a = 1.7194                                                           # Mass of the body (kg)                                \n",
    "m_k = 0.62                                                             # Mass of the ball (kg)\n",
    "m_w = 0.29                                                             # Mass of the wheel (kg)\n",
    "r_k = 0.121                                                            # Radius of the ball (m)\n",
    "r_w = 0.096                                                            # Radius of the wheel (m)\n",
    "L = 0.2311                                                             # Distance to the center of mass of the body\n",
    "I_k = 0.0036                                                           # Moment of inertia of the ball (kgm^2)\n",
    "I_w = 0.0015                                                           # Moment of inertia of the wheel (kgm^2)\n",
    "I_x = 0.0115                                                           # Moment of inertia of the body in X-Z plane\n",
    "I_y = I_x                                                              # Moment of inertia of the body in the Y-Z plane\n",
    "I_z = 0.0170                                                           # Moment of inertia of the body in the X-Y plane\n",
    "g = 9.81                                                               # Gravity (m/s/s)\n"
   ]
  },
  {
   "cell_type": "code",
   "execution_count": 3,
   "id": "a9aadde5-9622-4a21-9724-a81394e8387a",
   "metadata": {},
   "outputs": [],
   "source": [
    "# MOTOR PARAMETERS - found from: https://www.pololu.com/product/4754/specs\n",
    "N = 35                                                                 # Transmission ratio\n",
    "eta = 0.8                                                              # Transmission efficiency\n",
    "stall_torque = 2.65/N                                                 # Motor properties obtained from Pololu website\n",
    "stall_current = 5.5\n",
    "stall_voltage = 12\n",
    "\n",
    "noload_speed = 15.71*N\n",
    "noload_current = 0.2\n",
    "\n",
    "Kt = stall_torque/stall_current                                        # Torque / back-EMF constant (Nm/A)\n",
    "R = stall_voltage/stall_current                                        # Terminal resistance (Ohms)\n",
    "b = (noload_current*Kt)/noload_speed                                   # Viscous damping (Nms/rad)\n",
    "L_w = 0.023                                                              # Motor inductance (H)\n",
    "J = 0.000025                                                           # Motor's rotor inertia (kgm^2) - estimated from 35mm Maxon motor"
   ]
  },
  {
   "cell_type": "code",
   "execution_count": 9,
   "id": "15c7e402-3633-4e62-b332-d6107bebdabb",
   "metadata": {},
   "outputs": [
    {
     "ename": "SyntaxError",
     "evalue": "invalid syntax (2014279179.py, line 10)",
     "output_type": "error",
     "traceback": [
      "\u001b[1;36m  Cell \u001b[1;32mIn[9], line 10\u001b[1;36m\u001b[0m\n\u001b[1;33m    x_k_dot([ength(x_k_dot):t_length]) = x_k_dot_final;                      # Velocity vector (m/s)\u001b[0m\n\u001b[1;37m                           ^\u001b[0m\n\u001b[1;31mSyntaxError\u001b[0m\u001b[1;31m:\u001b[0m invalid syntax\n"
     ]
    }
   ],
   "source": [
    "# VELOCITY PROFILE GENERATION\n",
    "x_k_dot_final = 1                                                      # Final ball-bot velocity (m/s)\n",
    "t_final = 20                                                           # Duration of the simulation (s)\n",
    "t_constant = 6 # Ramp lasts from 2.5 s to t_constant                                                       # Time to reach constant final velocity (s)\n",
    "dt = 1/200                                                             # Simulation timestep\n",
    "t_length = t_final/dt                                                  # Length of time vector\n",
    "t = linspace(0,t_final, t_length)                                      # Time vector (s)\n",
    "\n",
    "x_k_dot = [np.zero(1,500) * linspace(0,x_k_dot_final, (round(t_length*(t_constant/t_final))-500))] # Velocity vector (m/s)\n",
    "x_k_dot([ength(x_k_dot):t_length]) = x_k_dot_final                      # Velocity vector (m/s)\n"
   ]
  },
  {
   "cell_type": "code",
   "execution_count": 10,
   "id": "f1120f12-559e-49ed-96e1-81ea74557ff8",
   "metadata": {},
   "outputs": [
    {
     "ename": "SyntaxError",
     "evalue": "invalid syntax (4069135148.py, line 4)",
     "output_type": "error",
     "traceback": [
      "\u001b[1;36m  Cell \u001b[1;32mIn[10], line 4\u001b[1;36m\u001b[0m\n\u001b[1;33m    hold on\u001b[0m\n\u001b[1;37m         ^\u001b[0m\n\u001b[1;31mSyntaxError\u001b[0m\u001b[1;31m:\u001b[0m invalid syntax\n"
     ]
    }
   ],
   "source": [
    "# PLOT BALL-BOT TRAJECTORY (x_k)\n",
    "figure\n",
    "plot(t, x_k_dot, 'linewidth',2)\n",
    "hold on\n",
    "xlabel('Time (s)')\n",
    "ylabel('Linear Velocity (m/s)')\n"
   ]
  },
  {
   "cell_type": "code",
   "execution_count": 11,
   "id": "0648b16a-d3a5-4b3e-8fb0-29f2ac8fdaeb",
   "metadata": {},
   "outputs": [
    {
     "ename": "SyntaxError",
     "evalue": "invalid syntax (3174164426.py, line 2)",
     "output_type": "error",
     "traceback": [
      "\u001b[1;36m  Cell \u001b[1;32mIn[11], line 2\u001b[1;36m\u001b[0m\n\u001b[1;33m    x_k_dot = smoothdata(x_k_dot, 'gaussian', 500);                         % Low pass filter to smooth disontinuous velocity profile\u001b[0m\n\u001b[1;37m                                                                            ^\u001b[0m\n\u001b[1;31mSyntaxError\u001b[0m\u001b[1;31m:\u001b[0m invalid syntax\n"
     ]
    }
   ],
   "source": [
    "# SMOOTH STEP FUNCTION AND PLOT TO SHOW DIFFERENCE\n",
    "x_k_dot = smoothdata(x_k_dot, 'gaussian', 500)                         # Low pass filter to smooth disontinuous velocity profile\n",
    "#x_k_dot = lowpass(x_k_dot,.1,1/dt,'ImpulseResponse','iir','Steepness',0.75) # This is a different way to smooth the signal--it uses a low-pass filter.\n",
    "plot(t,x_k_dot, 'linewidth',2)\n"
   ]
  },
  {
   "cell_type": "code",
   "execution_count": 12,
   "id": "b26c68d3-41bf-4bb1-929a-aaad9544e9e2",
   "metadata": {},
   "outputs": [
    {
     "ename": "SyntaxError",
     "evalue": "invalid syntax (3454693587.py, line 2)",
     "output_type": "error",
     "traceback": [
      "\u001b[1;36m  Cell \u001b[1;32mIn[12], line 2\u001b[1;36m\u001b[0m\n\u001b[1;33m    x_k_ddot = ddt(x_k_dot, dt);                                            % Ball-bot acceleration vector (m/s/s)\u001b[0m\n\u001b[1;37m                                                                            ^\u001b[0m\n\u001b[1;31mSyntaxError\u001b[0m\u001b[1;31m:\u001b[0m invalid syntax\n"
     ]
    }
   ],
   "source": [
    "\n",
    "# POSITION AND ACCELERATION GENERATION\n",
    "x_k_ddot = ddt(x_k_dot, dt)                                            # Ball-bot acceleration vector (m/s/s)\n",
    "x_k = cumsum(x_k_dot)*dt                                               # Integrating, ball-bot position vector (m)\n"
   ]
  },
  {
   "cell_type": "code",
   "execution_count": null,
   "id": "d3612a4d-855c-476b-a3f5-54a14ff14209",
   "metadata": {},
   "outputs": [],
   "source": [
    "# PLOTTING ACCELERATION\n",
    "figure\n",
    "plot(t, x_k_ddot,'linewidth',2)\n",
    "xlabel('Time (s)')\n",
    "ylabel('Linear Acceleration (m/s^2)')"
   ]
  },
  {
   "cell_type": "code",
   "execution_count": 15,
   "id": "f3c8aa73-53ae-44f3-9a04-d7bde719759f",
   "metadata": {},
   "outputs": [
    {
     "ename": "SyntaxError",
     "evalue": "invalid syntax (149472461.py, line 3)",
     "output_type": "error",
     "traceback": [
      "\u001b[1;36m  Cell \u001b[1;32mIn[15], line 3\u001b[1;36m\u001b[0m\n\u001b[1;33m    theta_scale = .25;                                                      % Scaling factor for calcuation of lean angle\u001b[0m\n\u001b[1;37m                                                                            ^\u001b[0m\n\u001b[1;31mSyntaxError\u001b[0m\u001b[1;31m:\u001b[0m invalid syntax\n"
     ]
    }
   ],
   "source": [
    "# LEAN ANGLE - Some contraints on this variable to make the simulation\n",
    "# realistic.  \n",
    "theta_scale = .25                                                      # Scaling factor for calcuation of lean angle\n",
    "theta = theta_scale * x_k_ddot                                         # Body lean angle (rad)                                                        # Lean angle starts at zero rads\n"
   ]
  },
  {
   "cell_type": "code",
   "execution_count": 16,
   "id": "36a37ee6-b30c-48f8-ba13-70a3f0d5a989",
   "metadata": {},
   "outputs": [
    {
     "name": "stderr",
     "output_type": "stream",
     "text": [
      "UsageError: Line magic function `%` not found.\n"
     ]
    }
   ],
   "source": [
    "# PLOTTING LEAN ANGLE\n",
    "figure\n",
    "plot(t, theta, 'linewidth',2)\n",
    "xlabel('Time (s)')\n",
    "ylabel('Lean Angle (rad)')\n",
    "\n",
    "theta_dot = ddt(theta, dt)                                             # Angular velocty of the lean angle (rad/s)\n",
    "theta_ddot = ddt(theta_dot, dt)                                        # Angular acceleration of the lean angle (rad/s/s)"
   ]
  },
  {
   "cell_type": "code",
   "execution_count": 20,
   "id": "fa29193c-2d4f-4791-a6dc-d31cb84b20f3",
   "metadata": {},
   "outputs": [
    {
     "ename": "SyntaxError",
     "evalue": "invalid syntax (964105051.py, line 2)",
     "output_type": "error",
     "traceback": [
      "\u001b[1;36m  Cell \u001b[1;32mIn[20], line 2\u001b[1;36m\u001b[0m\n\u001b[1;33m    phi_ddot = x_k_ddot / r_k;                                              % Angular acceleration of the ball\u001b[0m\n\u001b[1;37m                                                                            ^\u001b[0m\n\u001b[1;31mSyntaxError\u001b[0m\u001b[1;31m:\u001b[0m invalid syntax\n"
     ]
    }
   ],
   "source": [
    "# BALL ACCELERATION\n",
    "phi_ddot = x_k_ddot / r_k                                              # Angular acceleration of the ball\n",
    "phi_dot = x_k_dot / r_k                                                # Angular velocity of the ball\n"
   ]
  },
  {
   "cell_type": "code",
   "execution_count": 22,
   "id": "3ba890e9-40c7-47af-bfcd-2a508085cb5e",
   "metadata": {},
   "outputs": [
    {
     "ename": "SyntaxError",
     "evalue": "invalid syntax (2807770004.py, line 2)",
     "output_type": "error",
     "traceback": [
      "\u001b[1;36m  Cell \u001b[1;32mIn[22], line 2\u001b[1;36m\u001b[0m\n\u001b[1;33m    gamma = L * m_a + (r_k + r_w) * m_w;                                    % Temporary variable gamma\u001b[0m\n\u001b[1;37m                                                                            ^\u001b[0m\n\u001b[1;31mSyntaxError\u001b[0m\u001b[1;31m:\u001b[0m invalid syntax\n"
     ]
    }
   ],
   "source": [
    "# TEMP VARIABLE\n",
    "gamma = L * m_a + (r_k + r_w) * m_w                                    # Temporary variable gamma\n",
    "\n",
    "# CONTACT FORCE\n",
    "F_w_2 = (m_a + m_w) * (g * sin(theta) - r_k * phi_ddot .* cos(theta)) - gamma .* theta_ddot    # Contact force between wheel and ball\n",
    "\n",
    "# WHEEL ACCELERATION\n",
    "psi_ddot = (r_k / r_w) * (phi_ddot - theta_ddot) - theta_ddot          # Angular acceleration of the wheels (rad/s/s)\n",
    "psi_dot = (r_k / r_w) * (phi_dot - theta_dot) - theta_dot              # Angular velocity of the wheels (rad/s)\n",
    "\n",
    "# REQUIRED WHEEL TORQUE\n",
    "T_x = I_w * psi_ddot + F_w_2 * r_w                                     # Total wheel torque (Nm)\n",
    "\n",
    "# MOTOR CURRENT AND VOLTAGE\n",
    "i_winding = (T_x/(N * eta) + J * psi_ddot * N + b * psi_dot * N)/Kt    # Motor current (A)\n",
    "di_winding = ddt(i_winding, dt)                                        # Derivative of motor current\n",
    "v_winding = i_winding * R + (Kt * psi_dot * N) + L_w * di_winding        # Motor voltage (V)\n"
   ]
  },
  {
   "cell_type": "code",
   "execution_count": null,
   "id": "e9f48db7-185d-49af-872e-9c6c531b9adf",
   "metadata": {},
   "outputs": [],
   "source": [
    "# MORE PLOTTING \n",
    "figure\n",
    "plot(t, T_x, 'linewidth', 2)\n",
    "xlabel('Time (s)')\n",
    "ylabel('Torque (Nm)')\n",
    "\n",
    "figure\n",
    "subplot(211)\n",
    "plot(t, i_winding, 'linewidth', 2)\n",
    "xlabel('Time (s)')\n",
    "ylabel('Motor Current (A)')\n",
    "subplot(212)\n",
    "plot(t, v_winding, 'linewidth', 2)\n",
    "xlabel('Time (s)')\n",
    "ylabel('Motor Voltage (V)')\n"
   ]
  }
 ],
 "metadata": {
  "kernelspec": {
   "display_name": "Julia 1.10.0",
   "language": "julia",
   "name": "julia-1.10"
  },
  "language_info": {
   "file_extension": ".jl",
   "mimetype": "application/julia",
   "name": "julia",
   "version": "1.10.0"
  }
 },
 "nbformat": 4,
 "nbformat_minor": 5
}
